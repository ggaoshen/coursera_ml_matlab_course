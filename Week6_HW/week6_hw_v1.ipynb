{
  "cells": [
    {
      "metadata": {
        "trusted": true
      },
      "cell_type": "code",
      "source": "import pandas as pd\nimport numpy as np\nimport matplotlib.pyplot as plt\n%matplotlib inline  \nfrom scipy import optimize\nfrom PIL import Image\nfrom scipy import optimize\nfrom scipy.io import loadmat\n\n\n",
      "execution_count": 19,
      "outputs": []
    },
    {
      "metadata": {
        "trusted": true
      },
      "cell_type": "code",
      "source": "data = loadmat('ex5data1.mat')\nX=data['X']\ny=data['y']\n\nXval=data['Xval']\nyval=data['yval']\n\nXtest=data['Xtest']\nytest=data['ytest']",
      "execution_count": 59,
      "outputs": []
    },
    {
      "metadata": {
        "trusted": true
      },
      "cell_type": "code",
      "source": "# 1.1 visualize data\nplt.scatter(X, y)\nplt.xlabel('change in water level X')\nplt.ylabel('water flowing out of the dam y')",
      "execution_count": 60,
      "outputs": [
        {
          "output_type": "execute_result",
          "execution_count": 60,
          "data": {
            "text/plain": "Text(0,0.5,'water flowing out of the dam y')"
          },
          "metadata": {}
        },
        {
          "output_type": "display_data",
          "data": {
            "image/png": "[encoded data removed]",
            "text/plain": "<matplotlib.figure.Figure at 0x7f876a48f6a0>"
          },
          "metadata": {}
        }
      ]
    },
    {
      "metadata": {
        "trusted": true
      },
      "cell_type": "code",
      "source": "# 1.2 regularized linear regression cost\n# 1.3 regularized linear regression gradient\n\ndef cost(X, y, thetas, lmbd):\n    m=len(y)\n    y_hat = np.hstack((np.ones((X.shape[0],1)), X)).dot(thetas).reshape((m,1))\n#     print(y_hat.shape)\n    return np.sum((y_hat-y)**2)/(2*m)+lmbd/(2*m)*np.sum(thetas[1]**2)\n    \ndef grad(X, y, thetas, lmbd):\n    m=len(y)\n    y_hat = np.hstack((np.ones((X.shape[0],1)), X)).dot(thetas).reshape((m,1))\n    return np.array([np.sum((y_hat-y))/m, np.sum((y_hat-y)*X)/m + lmbd * thetas[1]/m])\n\n# test cost function: expect cost = 303.933, gradient = [-15.30, 598.250]\nprint(cost(X, y, [1, 1], 1))\nprint(grad(X, y, [1, 1], 1))",
      "execution_count": 96,
      "outputs": [
        {
          "output_type": "stream",
          "text": "303.9931922202643\n[-15.30301567 598.25074417]\n",
          "name": "stdout"
        }
      ]
    },
    {
      "metadata": {
        "trusted": true
      },
      "cell_type": "code",
      "source": "# 1.4 fitting linear regression\ndef fit_OLS(cost_fn, grad_fn, X, y, lmbd):\n    init_thetas=np.array([1,1])\n    def F(param): return cost_fn(X, y, param, lmbd)\n    def Fprime(param): return grad_fn(X, y, param, lmbd)\n    res1 = optimize.fmin_cg(f=F, x0=init_thetas, fprime=Fprime)\n    return res1",
      "execution_count": 99,
      "outputs": []
    },
    {
      "metadata": {
        "trusted": true
      },
      "cell_type": "code",
      "source": "res = fit_OLS(cost, grad, X, y, 0)\nres",
      "execution_count": 106,
      "outputs": [
        {
          "output_type": "stream",
          "text": "Optimization terminated successfully.\n         Current function value: 22.373906\n         Iterations: 18\n         Function evaluations: 28\n         Gradient evaluations: 28\n",
          "name": "stdout"
        },
        {
          "output_type": "execute_result",
          "execution_count": 106,
          "data": {
            "text/plain": "array([13.08790734,  0.36777925])"
          },
          "metadata": {}
        }
      ]
    },
    {
      "metadata": {
        "trusted": true
      },
      "cell_type": "code",
      "source": "def predict(X_test, solved_thetas):\n    X_test=np.hstack((np.ones((X_test.shape[0], 1)), X_test))\n    return X_test.dot(solved_thetas)\n\n",
      "execution_count": 115,
      "outputs": [
        {
          "output_type": "execute_result",
          "execution_count": 115,
          "data": {
            "text/plain": "array([ 7.22669835,  2.36604643, 26.39767248, 26.87675597, -4.58713303,\n        9.79942462, 18.71779597,  0.32366284, 13.5988095 , -3.23551868,\n       15.66732789, 21.45957412])"
          },
          "metadata": {}
        }
      ]
    },
    {
      "metadata": {
        "trusted": true
      },
      "cell_type": "code",
      "source": "xs=np.linspace(min(X), max(X))\ny_hat = predict(xs, res)\nplt.scatter(X, y)\nplt.plot(xs, y_hat, '-b')\nplt.xlabel('change in water level X')\nplt.ylabel('water flowing out of the dam y')",
      "execution_count": 130,
      "outputs": [
        {
          "output_type": "execute_result",
          "execution_count": 130,
          "data": {
            "text/plain": "Text(0,0.5,'water flowing out of the dam y')"
          },
          "metadata": {}
        },
        {
          "output_type": "display_data",
          "data": {
            "image/png": "[encoded data removed]",
            "text/plain": "<matplotlib.figure.Figure at 0x7f8767fe7198>"
          },
          "metadata": {}
        }
      ]
    },
    {
      "metadata": {
        "trusted": true
      },
      "cell_type": "code",
      "source": "",
      "execution_count": null,
      "outputs": []
    },
    {
      "metadata": {
        "trusted": true
      },
      "cell_type": "code",
      "source": "# 2 Bias - variance\n# 2.1 Learning curves\n\n",
      "execution_count": null,
      "outputs": []
    }
  ],
  "metadata": {
    "kernelspec": {
      "name": "python3",
      "display_name": "Python 3",
      "language": "python"
    },
    "language_info": {
      "mimetype": "text/x-python",
      "nbconvert_exporter": "python",
      "name": "python",
      "file_extension": ".py",
      "version": "3.5.4",
      "pygments_lexer": "ipython3",
      "codemirror_mode": {
        "version": 3,
        "name": "ipython"
      }
    }
  },
  "nbformat": 4,
  "nbformat_minor": 2
}